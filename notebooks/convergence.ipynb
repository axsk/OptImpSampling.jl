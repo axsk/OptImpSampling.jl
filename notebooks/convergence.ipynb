{
 "cells": [
  {
   "cell_type": "code",
   "execution_count": null,
   "metadata": {},
   "outputs": [],
   "source": [
    "cd(\"/home/htc/bzfsikor/code/OptImpSampling.jl/\")\n",
    "using Pkg; Pkg.activate(\".\")"
   ]
  },
  {
   "cell_type": "code",
   "execution_count": 1,
   "metadata": {},
   "outputs": [
    {
     "name": "stderr",
     "output_type": "stream",
     "text": [
      "┌ Info: Precompiling OptImpSampling [e32dacf4-0a2b-4f26-bff4-03a75db77042]\n",
      "└ @ Base loading.jl:1664\n",
      "WARNING: Method definition rrule(Type{Array{T, N} where N where T}, CUDA.CuArray{T, N, B} where B where N where T) in module Flux at /home/htc/bzfsikor/.julia/packages/Flux/4k0Ls/src/functor.jl:121 overwritten in module Lux at /home/htc/bzfsikor/.julia/packages/Lux/tbAeH/src/autodiff.jl:68.\n",
      "  ** incremental compilation may be fatally broken for this module **\n",
      "\n",
      "┌ Warning: Your operating system has run out of inotify capacity.\n",
      "│ Check the current value with `cat /proc/sys/fs/inotify/max_user_watches`.\n",
      "│ Set it to a higher level with, e.g., `echo 65536 | sudo tee -a /proc/sys/fs/inotify/max_user_watches`.\n",
      "│ This requires having administrative privileges on your machine (or talk to your sysadmin).\n",
      "│ See https://github.com/timholy/Revise.jl/issues/26 for more information.\n",
      "└ @ Revise /home/htc/bzfsikor/.julia/packages/Revise/do2nH/src/packagedef.jl:37\n",
      "┌ Warning: Your operating system has run out of inotify capacity.\n",
      "│ Check the current value with `cat /proc/sys/fs/inotify/max_user_watches`.\n",
      "│ Set it to a higher level with, e.g., `echo 65536 | sudo tee -a /proc/sys/fs/inotify/max_user_watches`.\n",
      "│ This requires having administrative privileges on your machine (or talk to your sysadmin).\n",
      "│ See https://github.com/timholy/Revise.jl/issues/26 for more information.\n",
      "└ @ Revise /home/htc/bzfsikor/.julia/packages/Revise/do2nH/src/packagedef.jl:37\n",
      "┌ Warning: Your operating system has run out of inotify capacity.\n",
      "│ Check the current value with `cat /proc/sys/fs/inotify/max_user_watches`.\n",
      "│ Set it to a higher level with, e.g., `echo 65536 | sudo tee -a /proc/sys/fs/inotify/max_user_watches`.\n",
      "│ This requires having administrative privileges on your machine (or talk to your sysadmin).\n",
      "│ See https://github.com/timholy/Revise.jl/issues/26 for more information.\n",
      "└ @ Revise /home/htc/bzfsikor/.julia/packages/Revise/do2nH/src/packagedef.jl:37\n",
      "┌ Warning: Your operating system has run out of inotify capacity.\n",
      "│ Check the current value with `cat /proc/sys/fs/inotify/max_user_watches`.\n",
      "│ Set it to a higher level with, e.g., `echo 65536 | sudo tee -a /proc/sys/fs/inotify/max_user_watches`.\n",
      "│ This requires having administrative privileges on your machine (or talk to your sysadmin).\n",
      "│ See https://github.com/timholy/Revise.jl/issues/26 for more information.\n",
      "└ @ Revise /home/htc/bzfsikor/.julia/packages/Revise/do2nH/src/packagedef.jl:37\n",
      "┌ Warning: Your operating system has run out of inotify capacity.\n",
      "│ Check the current value with `cat /proc/sys/fs/inotify/max_user_watches`.\n",
      "│ Set it to a higher level with, e.g., `echo 65536 | sudo tee -a /proc/sys/fs/inotify/max_user_watches`.\n",
      "│ This requires having administrative privileges on your machine (or talk to your sysadmin).\n",
      "│ See https://github.com/timholy/Revise.jl/issues/26 for more information.\n",
      "└ @ Revise /home/htc/bzfsikor/.julia/packages/Revise/do2nH/src/packagedef.jl:37\n",
      "┌ Warning: Your operating system has run out of inotify capacity.\n",
      "│ Check the current value with `cat /proc/sys/fs/inotify/max_user_watches`.\n",
      "│ Set it to a higher level with, e.g., `echo 65536 | sudo tee -a /proc/sys/fs/inotify/max_user_watches`.\n",
      "│ This requires having administrative privileges on your machine (or talk to your sysadmin).\n",
      "│ See https://github.com/timholy/Revise.jl/issues/26 for more information.\n",
      "└ @ Revise /home/htc/bzfsikor/.julia/packages/Revise/do2nH/src/packagedef.jl:37\n",
      "┌ Warning: Your operating system has run out of inotify capacity.\n",
      "│ Check the current value with `cat /proc/sys/fs/inotify/max_user_watches`.\n",
      "│ Set it to a higher level with, e.g., `echo 65536 | sudo tee -a /proc/sys/fs/inotify/max_user_watches`.\n",
      "│ This requires having administrative privileges on your machine (or talk to your sysadmin).\n",
      "│ See https://github.com/timholy/Revise.jl/issues/26 for more information.\n",
      "└ @ Revise /home/htc/bzfsikor/.julia/packages/Revise/do2nH/src/packagedef.jl:37\n",
      "┌ Warning: Your operating system has run out of inotify capacity.\n",
      "│ Check the current value with `cat /proc/sys/fs/inotify/max_user_watches`.\n",
      "│ Set it to a higher level with, e.g., `echo 65536 | sudo tee -a /proc/sys/fs/inotify/max_user_watches`.\n",
      "│ This requires having administrative privileges on your machine (or talk to your sysadmin).\n",
      "│ See https://github.com/timholy/Revise.jl/issues/26 for more information.\n",
      "└ @ Revise /home/htc/bzfsikor/.julia/packages/Revise/do2nH/src/packagedef.jl:37\n",
      "┌ Warning: Your operating system has run out of inotify capacity.\n",
      "│ Check the current value with `cat /proc/sys/fs/inotify/max_user_watches`.\n",
      "│ Set it to a higher level with, e.g., `echo 65536 | sudo tee -a /proc/sys/fs/inotify/max_user_watches`.\n",
      "│ This requires having administrative privileges on your machine (or talk to your sysadmin).\n",
      "│ See https://github.com/timholy/Revise.jl/issues/26 for more information.\n",
      "└ @ Revise /home/htc/bzfsikor/.julia/packages/Revise/do2nH/src/packagedef.jl:37\n",
      "┌ Warning: Your operating system has run out of inotify capacity.\n",
      "│ Check the current value with `cat /proc/sys/fs/inotify/max_user_watches`.\n",
      "│ Set it to a higher level with, e.g., `echo 65536 | sudo tee -a /proc/sys/fs/inotify/max_user_watches`.\n",
      "│ This requires having administrative privileges on your machine (or talk to your sysadmin).\n",
      "│ See https://github.com/timholy/Revise.jl/issues/26 for more information.\n",
      "└ @ Revise /home/htc/bzfsikor/.julia/packages/Revise/do2nH/src/packagedef.jl:37\n"
     ]
    }
   ],
   "source": [
    "# In this notebook we analyse the convergence of different SDE solvers for the \n",
    "# Girsanov reweighting of the ISOKANN problem with optimal control\n",
    "using Revise\n",
    "using OptImpSampling, StochasticDiffEq, DiffEqNoiseProcess, Plots\n",
    "using OptImpSampling: Doublewell, isokann, optcontrol, GirsanovSDE, girsanovsample, statify"
   ]
  },
  {
   "cell_type": "code",
   "execution_count": null,
   "metadata": {},
   "outputs": [],
   "source": [
    "dynamics = Doublewell()\n",
    "r = isokann(;dynamics);\n",
    "plot(x->r.model([x])[1])"
   ]
  },
  {
   "cell_type": "code",
   "execution_count": null,
   "metadata": {},
   "outputs": [],
   "source": [
    "using Random\n",
    "#Random.seed!(0)\n",
    "sde = OptImpSampling.SDEProblem(dynamics, [0.])        # basic Doublewell SDE\n",
    "u = optcontrol(statify(r.model), r.S, sde)                # compute the optimal control from the ISOKANN result\n",
    "cde = GirsanovSDE(sde, u)\n",
    "s = solve(cde, save_noise=true, alg=SROCK2())  # solve the girsanov SDE and save the noise\n",
    "W0 = NoiseWrapper(s.W)                            # extract the noise for convergence analysis\n",
    "plot(s, label=[\"Xₜ\" \"Yₜ\"])\n",
    "chis = r.model(s[1,:]')'\n",
    "ws = @. exp(-s[2,:])\n",
    "plot!(s.t, [chis chis .* ws], label=[\"chi(Xₜ)\" \"Gₜ\"])"
   ]
  },
  {
   "cell_type": "code",
   "execution_count": null,
   "metadata": {},
   "outputs": [],
   "source": [
    "#Random.seed!(0)\n",
    "@time x,w = girsanovsample(cde, 0.)\n",
    "@show x,w\n",
    "e = r.model(x)[1] * w"
   ]
  },
  {
   "cell_type": "code",
   "execution_count": null,
   "metadata": {},
   "outputs": [],
   "source": [
    "# Use a Brownian Tree to get reproducible noise for the convergence analysis of different solvers\n",
    "W = VirtualBrownianTree(0.0, zeros(2); tree_depth = 5, tend=1.1)\n",
    "\n",
    "prob = NoiseProblem(W, (0.0, 1.0))\n",
    "@time sol = solve(prob; dt = 1e-6);"
   ]
  },
  {
   "cell_type": "code",
   "execution_count": null,
   "metadata": {},
   "outputs": [],
   "source": [
    "logspace(min, max, n) = reverse(exp.(range(log(min), log(max), n)))\n",
    "#W = deepcopy(W0)\n",
    "W = VirtualBrownianTree(0.0, zeros(2); tree_depth=0, tend=1.1)\n",
    "function plot_e_convergence!(;min=1e-7, max=1e-2, n=10, alg=EM())\n",
    "\n",
    "    dts = logspace(min, max, n)\n",
    "    \n",
    "    e = map(dts) do  dt\n",
    "        cde = GirsanovSDE(OptImpSampling.SDEProblem(Doublewell(), [0.], noise=W, alg=alg, dt=dt, abstol=dt, reltol=0.), u)\n",
    "        @show alg, dt\n",
    "        @time x,w = girsanovsample(cde, 0.)\n",
    "        e = r.model(x)[1] * w\n",
    "    end\n",
    "    plot!(dts, e, xaxis=:log, label=Base.string(typeof(alg))[1:8])\n",
    "end\n",
    "\n",
    "plot()\n",
    "time = @elapsed for alg in [EM(), LambaEM(), ImplicitEM(), SROCK2()]\n",
    "    plot_e_convergence!(alg=alg)\n",
    "end\n",
    "plot!(xlabel=\"dt/abstol\", ylabel=\"Z(T)\")"
   ]
  },
  {
   "cell_type": "code",
   "execution_count": null,
   "metadata": {},
   "outputs": [],
   "source": [
    "savefig(\"sdeconvb.png\")"
   ]
  },
  {
   "cell_type": "code",
   "execution_count": null,
   "metadata": {},
   "outputs": [],
   "source": [
    "plot!()\n",
    "xaxis!(\"dt / atol=rtol\")"
   ]
  },
  {
   "cell_type": "code",
   "execution_count": null,
   "metadata": {},
   "outputs": [],
   "source": [
    "using OptImpSampling: CompoundSDE"
   ]
  },
  {
   "cell_type": "code",
   "execution_count": null,
   "metadata": {},
   "outputs": [],
   "source": [
    "CompoundSDE(sde, u)"
   ]
  },
  {
   "cell_type": "code",
   "execution_count": null,
   "metadata": {},
   "outputs": [],
   "source": [
    "Revise.retry()"
   ]
  },
  {
   "cell_type": "code",
   "execution_count": null,
   "metadata": {},
   "outputs": [],
   "source": []
  }
 ],
 "metadata": {
  "kernelspec": {
   "display_name": "Julia 1.8.2",
   "language": "julia",
   "name": "julia-1.8"
  },
  "language_info": {
   "file_extension": ".jl",
   "mimetype": "application/julia",
   "name": "julia",
   "version": "1.8.2"
  },
  "orig_nbformat": 4,
  "vscode": {
   "interpreter": {
    "hash": "2c65483187a614eb8755da396c22811c1cf3c2eb043d7100588700988e72169c"
   }
  }
 },
 "nbformat": 4,
 "nbformat_minor": 2
}
